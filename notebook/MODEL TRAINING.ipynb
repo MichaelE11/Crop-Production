{
 "cells": [
  {
   "cell_type": "code",
   "execution_count": 1,
   "metadata": {},
   "outputs": [],
   "source": [
    "import pandas as pd\n",
    "import seaborn as sns\n",
    "import numpy as np\n",
    "import matplotlib.pyplot as plt\n",
    "%matplotlib inline\n",
    "\n",
    "from sklearn.model_selection import train_test_split, GridSearchCV\n",
    "from sklearn.compose import ColumnTransformer\n",
    "from sklearn.pipeline import Pipeline\n",
    "from sklearn.preprocessing import MinMaxScaler, OneHotEncoder\n",
    "from sklearn.linear_model import LinearRegression, Ridge, Lasso, ElasticNet\n",
    "from sklearn.tree import DecisionTreeRegressor\n",
    "from sklearn.ensemble import RandomForestRegressor, GradientBoostingRegressor, AdaBoostRegressor\n",
    "from sklearn.svm import SVR\n",
    "from sklearn.neighbors import KNeighborsRegressor\n",
    "import xgboost as xgb\n",
    "from catboost import CatBoostRegressor\n",
    "from sklearn.metrics import mean_absolute_error, mean_squared_error, r2_score\n",
    "import warnings"
   ]
  },
  {
   "cell_type": "code",
   "execution_count": 2,
   "metadata": {},
   "outputs": [],
   "source": [
    "df=pd.read_csv('data/crop_production.csv')"
   ]
  },
  {
   "cell_type": "code",
   "execution_count": 3,
   "metadata": {},
   "outputs": [
    {
     "data": {
      "text/html": [
       "<div>\n",
       "<style scoped>\n",
       "    .dataframe tbody tr th:only-of-type {\n",
       "        vertical-align: middle;\n",
       "    }\n",
       "\n",
       "    .dataframe tbody tr th {\n",
       "        vertical-align: top;\n",
       "    }\n",
       "\n",
       "    .dataframe thead th {\n",
       "        text-align: right;\n",
       "    }\n",
       "</style>\n",
       "<table border=\"1\" class=\"dataframe\">\n",
       "  <thead>\n",
       "    <tr style=\"text-align: right;\">\n",
       "      <th></th>\n",
       "      <th>index</th>\n",
       "      <th>LOCATION</th>\n",
       "      <th>INDICATOR</th>\n",
       "      <th>SUBJECT</th>\n",
       "      <th>MEASURE</th>\n",
       "      <th>FREQUENCY</th>\n",
       "      <th>TIME</th>\n",
       "      <th>Value</th>\n",
       "      <th>Flag Codes</th>\n",
       "    </tr>\n",
       "  </thead>\n",
       "  <tbody>\n",
       "    <tr>\n",
       "      <th>0</th>\n",
       "      <td>0</td>\n",
       "      <td>AUS</td>\n",
       "      <td>CROPYIELD</td>\n",
       "      <td>RICE</td>\n",
       "      <td>TONNE_HA</td>\n",
       "      <td>A</td>\n",
       "      <td>1990</td>\n",
       "      <td>8.314607</td>\n",
       "      <td>NaN</td>\n",
       "    </tr>\n",
       "    <tr>\n",
       "      <th>1</th>\n",
       "      <td>1</td>\n",
       "      <td>AUS</td>\n",
       "      <td>CROPYIELD</td>\n",
       "      <td>RICE</td>\n",
       "      <td>TONNE_HA</td>\n",
       "      <td>A</td>\n",
       "      <td>1991</td>\n",
       "      <td>8.394737</td>\n",
       "      <td>NaN</td>\n",
       "    </tr>\n",
       "    <tr>\n",
       "      <th>2</th>\n",
       "      <td>2</td>\n",
       "      <td>AUS</td>\n",
       "      <td>CROPYIELD</td>\n",
       "      <td>RICE</td>\n",
       "      <td>TONNE_HA</td>\n",
       "      <td>A</td>\n",
       "      <td>1992</td>\n",
       "      <td>8.094340</td>\n",
       "      <td>NaN</td>\n",
       "    </tr>\n",
       "    <tr>\n",
       "      <th>3</th>\n",
       "      <td>3</td>\n",
       "      <td>AUS</td>\n",
       "      <td>CROPYIELD</td>\n",
       "      <td>RICE</td>\n",
       "      <td>TONNE_HA</td>\n",
       "      <td>A</td>\n",
       "      <td>1993</td>\n",
       "      <td>8.336000</td>\n",
       "      <td>NaN</td>\n",
       "    </tr>\n",
       "    <tr>\n",
       "      <th>4</th>\n",
       "      <td>4</td>\n",
       "      <td>AUS</td>\n",
       "      <td>CROPYIELD</td>\n",
       "      <td>RICE</td>\n",
       "      <td>TONNE_HA</td>\n",
       "      <td>A</td>\n",
       "      <td>1994</td>\n",
       "      <td>8.537815</td>\n",
       "      <td>NaN</td>\n",
       "    </tr>\n",
       "  </tbody>\n",
       "</table>\n",
       "</div>"
      ],
      "text/plain": [
       "   index LOCATION  INDICATOR SUBJECT   MEASURE FREQUENCY  TIME     Value  \\\n",
       "0      0      AUS  CROPYIELD    RICE  TONNE_HA         A  1990  8.314607   \n",
       "1      1      AUS  CROPYIELD    RICE  TONNE_HA         A  1991  8.394737   \n",
       "2      2      AUS  CROPYIELD    RICE  TONNE_HA         A  1992  8.094340   \n",
       "3      3      AUS  CROPYIELD    RICE  TONNE_HA         A  1993  8.336000   \n",
       "4      4      AUS  CROPYIELD    RICE  TONNE_HA         A  1994  8.537815   \n",
       "\n",
       "   Flag Codes  \n",
       "0         NaN  \n",
       "1         NaN  \n",
       "2         NaN  \n",
       "3         NaN  \n",
       "4         NaN  "
      ]
     },
     "execution_count": 3,
     "metadata": {},
     "output_type": "execute_result"
    }
   ],
   "source": [
    "df.head(5) "
   ]
  },
  {
   "cell_type": "code",
   "execution_count": 4,
   "metadata": {},
   "outputs": [],
   "source": [
    "new_data=df.drop(['index', 'INDICATOR', 'FREQUENCY','Flag Codes'], axis=1)"
   ]
  },
  {
   "cell_type": "code",
   "execution_count": 5,
   "metadata": {},
   "outputs": [
    {
     "data": {
      "text/html": [
       "<div>\n",
       "<style scoped>\n",
       "    .dataframe tbody tr th:only-of-type {\n",
       "        vertical-align: middle;\n",
       "    }\n",
       "\n",
       "    .dataframe tbody tr th {\n",
       "        vertical-align: top;\n",
       "    }\n",
       "\n",
       "    .dataframe thead th {\n",
       "        text-align: right;\n",
       "    }\n",
       "</style>\n",
       "<table border=\"1\" class=\"dataframe\">\n",
       "  <thead>\n",
       "    <tr style=\"text-align: right;\">\n",
       "      <th></th>\n",
       "      <th>LOCATION</th>\n",
       "      <th>SUBJECT</th>\n",
       "      <th>MEASURE</th>\n",
       "      <th>TIME</th>\n",
       "      <th>Value</th>\n",
       "    </tr>\n",
       "  </thead>\n",
       "  <tbody>\n",
       "    <tr>\n",
       "      <th>0</th>\n",
       "      <td>AUS</td>\n",
       "      <td>RICE</td>\n",
       "      <td>TONNE_HA</td>\n",
       "      <td>1990</td>\n",
       "      <td>8.314607</td>\n",
       "    </tr>\n",
       "    <tr>\n",
       "      <th>1</th>\n",
       "      <td>AUS</td>\n",
       "      <td>RICE</td>\n",
       "      <td>TONNE_HA</td>\n",
       "      <td>1991</td>\n",
       "      <td>8.394737</td>\n",
       "    </tr>\n",
       "    <tr>\n",
       "      <th>2</th>\n",
       "      <td>AUS</td>\n",
       "      <td>RICE</td>\n",
       "      <td>TONNE_HA</td>\n",
       "      <td>1992</td>\n",
       "      <td>8.094340</td>\n",
       "    </tr>\n",
       "    <tr>\n",
       "      <th>3</th>\n",
       "      <td>AUS</td>\n",
       "      <td>RICE</td>\n",
       "      <td>TONNE_HA</td>\n",
       "      <td>1993</td>\n",
       "      <td>8.336000</td>\n",
       "    </tr>\n",
       "    <tr>\n",
       "      <th>4</th>\n",
       "      <td>AUS</td>\n",
       "      <td>RICE</td>\n",
       "      <td>TONNE_HA</td>\n",
       "      <td>1994</td>\n",
       "      <td>8.537815</td>\n",
       "    </tr>\n",
       "    <tr>\n",
       "      <th>...</th>\n",
       "      <td>...</td>\n",
       "      <td>...</td>\n",
       "      <td>...</td>\n",
       "      <td>...</td>\n",
       "      <td>...</td>\n",
       "    </tr>\n",
       "    <tr>\n",
       "      <th>20561</th>\n",
       "      <td>OECD</td>\n",
       "      <td>SOYBEAN</td>\n",
       "      <td>THND_HA</td>\n",
       "      <td>2021</td>\n",
       "      <td>37010.208830</td>\n",
       "    </tr>\n",
       "    <tr>\n",
       "      <th>20562</th>\n",
       "      <td>OECD</td>\n",
       "      <td>SOYBEAN</td>\n",
       "      <td>THND_HA</td>\n",
       "      <td>2022</td>\n",
       "      <td>37069.214850</td>\n",
       "    </tr>\n",
       "    <tr>\n",
       "      <th>20563</th>\n",
       "      <td>OECD</td>\n",
       "      <td>SOYBEAN</td>\n",
       "      <td>THND_HA</td>\n",
       "      <td>2023</td>\n",
       "      <td>37143.459750</td>\n",
       "    </tr>\n",
       "    <tr>\n",
       "      <th>20564</th>\n",
       "      <td>OECD</td>\n",
       "      <td>SOYBEAN</td>\n",
       "      <td>THND_HA</td>\n",
       "      <td>2024</td>\n",
       "      <td>37013.651900</td>\n",
       "    </tr>\n",
       "    <tr>\n",
       "      <th>20565</th>\n",
       "      <td>OECD</td>\n",
       "      <td>SOYBEAN</td>\n",
       "      <td>THND_HA</td>\n",
       "      <td>2025</td>\n",
       "      <td>37041.401580</td>\n",
       "    </tr>\n",
       "  </tbody>\n",
       "</table>\n",
       "<p>20566 rows × 5 columns</p>\n",
       "</div>"
      ],
      "text/plain": [
       "      LOCATION  SUBJECT   MEASURE  TIME         Value\n",
       "0          AUS     RICE  TONNE_HA  1990      8.314607\n",
       "1          AUS     RICE  TONNE_HA  1991      8.394737\n",
       "2          AUS     RICE  TONNE_HA  1992      8.094340\n",
       "3          AUS     RICE  TONNE_HA  1993      8.336000\n",
       "4          AUS     RICE  TONNE_HA  1994      8.537815\n",
       "...        ...      ...       ...   ...           ...\n",
       "20561     OECD  SOYBEAN   THND_HA  2021  37010.208830\n",
       "20562     OECD  SOYBEAN   THND_HA  2022  37069.214850\n",
       "20563     OECD  SOYBEAN   THND_HA  2023  37143.459750\n",
       "20564     OECD  SOYBEAN   THND_HA  2024  37013.651900\n",
       "20565     OECD  SOYBEAN   THND_HA  2025  37041.401580\n",
       "\n",
       "[20566 rows x 5 columns]"
      ]
     },
     "execution_count": 5,
     "metadata": {},
     "output_type": "execute_result"
    }
   ],
   "source": [
    "new_data"
   ]
  },
  {
   "cell_type": "code",
   "execution_count": 6,
   "metadata": {},
   "outputs": [
    {
     "name": "stdout",
     "output_type": "stream",
     "text": [
      "<class 'pandas.core.frame.DataFrame'>\n",
      "RangeIndex: 20566 entries, 0 to 20565\n",
      "Data columns (total 5 columns):\n",
      " #   Column    Non-Null Count  Dtype  \n",
      "---  ------    --------------  -----  \n",
      " 0   LOCATION  20566 non-null  object \n",
      " 1   SUBJECT   20566 non-null  object \n",
      " 2   MEASURE   20566 non-null  object \n",
      " 3   TIME      20566 non-null  int64  \n",
      " 4   Value     20566 non-null  float64\n",
      "dtypes: float64(1), int64(1), object(3)\n",
      "memory usage: 803.5+ KB\n"
     ]
    }
   ],
   "source": [
    "new_data.info()"
   ]
  },
  {
   "cell_type": "code",
   "execution_count": 7,
   "metadata": {},
   "outputs": [
    {
     "data": {
      "text/plain": [
       "LOCATION    0\n",
       "SUBJECT     0\n",
       "MEASURE     0\n",
       "TIME        0\n",
       "Value       0\n",
       "dtype: int64"
      ]
     },
     "execution_count": 7,
     "metadata": {},
     "output_type": "execute_result"
    }
   ],
   "source": [
    "new_data.isnull().sum()"
   ]
  },
  {
   "cell_type": "code",
   "execution_count": 8,
   "metadata": {},
   "outputs": [
    {
     "data": {
      "text/plain": [
       "<Axes: >"
      ]
     },
     "execution_count": 8,
     "metadata": {},
     "output_type": "execute_result"
    },
    {
     "data": {
      "image/png": "[encoded data removed]",
      "text/plain": [
       "<Figure size 640x480 with 1 Axes>"
      ]
     },
     "metadata": {},
     "output_type": "display_data"
    }
   ],
   "source": [
    "sns.heatmap(data=new_data.isnull(), cbar=False, yticklabels=False, cmap='viridis')"
   ]
  },
  {
   "cell_type": "markdown",
   "metadata": {},
   "source": [
    "This shows no missing data"
   ]
  },
  {
   "cell_type": "markdown",
   "metadata": {},
   "source": [
    "### Perparing X and y"
   ]
  },
  {
   "cell_type": "code",
   "execution_count": 9,
   "metadata": {},
   "outputs": [],
   "source": [
    "X=new_data.drop(columns='Value', axis=1)"
   ]
  },
  {
   "cell_type": "code",
   "execution_count": 10,
   "metadata": {},
   "outputs": [
    {
     "data": {
      "text/html": [
       "<div>\n",
       "<style scoped>\n",
       "    .dataframe tbody tr th:only-of-type {\n",
       "        vertical-align: middle;\n",
       "    }\n",
       "\n",
       "    .dataframe tbody tr th {\n",
       "        vertical-align: top;\n",
       "    }\n",
       "\n",
       "    .dataframe thead th {\n",
       "        text-align: right;\n",
       "    }\n",
       "</style>\n",
       "<table border=\"1\" class=\"dataframe\">\n",
       "  <thead>\n",
       "    <tr style=\"text-align: right;\">\n",
       "      <th></th>\n",
       "      <th>LOCATION</th>\n",
       "      <th>SUBJECT</th>\n",
       "      <th>MEASURE</th>\n",
       "      <th>TIME</th>\n",
       "    </tr>\n",
       "  </thead>\n",
       "  <tbody>\n",
       "    <tr>\n",
       "      <th>0</th>\n",
       "      <td>AUS</td>\n",
       "      <td>RICE</td>\n",
       "      <td>TONNE_HA</td>\n",
       "      <td>1990</td>\n",
       "    </tr>\n",
       "    <tr>\n",
       "      <th>1</th>\n",
       "      <td>AUS</td>\n",
       "      <td>RICE</td>\n",
       "      <td>TONNE_HA</td>\n",
       "      <td>1991</td>\n",
       "    </tr>\n",
       "    <tr>\n",
       "      <th>2</th>\n",
       "      <td>AUS</td>\n",
       "      <td>RICE</td>\n",
       "      <td>TONNE_HA</td>\n",
       "      <td>1992</td>\n",
       "    </tr>\n",
       "    <tr>\n",
       "      <th>3</th>\n",
       "      <td>AUS</td>\n",
       "      <td>RICE</td>\n",
       "      <td>TONNE_HA</td>\n",
       "      <td>1993</td>\n",
       "    </tr>\n",
       "    <tr>\n",
       "      <th>4</th>\n",
       "      <td>AUS</td>\n",
       "      <td>RICE</td>\n",
       "      <td>TONNE_HA</td>\n",
       "      <td>1994</td>\n",
       "    </tr>\n",
       "    <tr>\n",
       "      <th>...</th>\n",
       "      <td>...</td>\n",
       "      <td>...</td>\n",
       "      <td>...</td>\n",
       "      <td>...</td>\n",
       "    </tr>\n",
       "    <tr>\n",
       "      <th>20561</th>\n",
       "      <td>OECD</td>\n",
       "      <td>SOYBEAN</td>\n",
       "      <td>THND_HA</td>\n",
       "      <td>2021</td>\n",
       "    </tr>\n",
       "    <tr>\n",
       "      <th>20562</th>\n",
       "      <td>OECD</td>\n",
       "      <td>SOYBEAN</td>\n",
       "      <td>THND_HA</td>\n",
       "      <td>2022</td>\n",
       "    </tr>\n",
       "    <tr>\n",
       "      <th>20563</th>\n",
       "      <td>OECD</td>\n",
       "      <td>SOYBEAN</td>\n",
       "      <td>THND_HA</td>\n",
       "      <td>2023</td>\n",
       "    </tr>\n",
       "    <tr>\n",
       "      <th>20564</th>\n",
       "      <td>OECD</td>\n",
       "      <td>SOYBEAN</td>\n",
       "      <td>THND_HA</td>\n",
       "      <td>2024</td>\n",
       "    </tr>\n",
       "    <tr>\n",
       "      <th>20565</th>\n",
       "      <td>OECD</td>\n",
       "      <td>SOYBEAN</td>\n",
       "      <td>THND_HA</td>\n",
       "      <td>2025</td>\n",
       "    </tr>\n",
       "  </tbody>\n",
       "</table>\n",
       "<p>20566 rows × 4 columns</p>\n",
       "</div>"
      ],
      "text/plain": [
       "      LOCATION  SUBJECT   MEASURE  TIME\n",
       "0          AUS     RICE  TONNE_HA  1990\n",
       "1          AUS     RICE  TONNE_HA  1991\n",
       "2          AUS     RICE  TONNE_HA  1992\n",
       "3          AUS     RICE  TONNE_HA  1993\n",
       "4          AUS     RICE  TONNE_HA  1994\n",
       "...        ...      ...       ...   ...\n",
       "20561     OECD  SOYBEAN   THND_HA  2021\n",
       "20562     OECD  SOYBEAN   THND_HA  2022\n",
       "20563     OECD  SOYBEAN   THND_HA  2023\n",
       "20564     OECD  SOYBEAN   THND_HA  2024\n",
       "20565     OECD  SOYBEAN   THND_HA  2025\n",
       "\n",
       "[20566 rows x 4 columns]"
      ]
     },
     "execution_count": 10,
     "metadata": {},
     "output_type": "execute_result"
    }
   ],
   "source": [
    "X"
   ]
  },
  {
   "cell_type": "code",
   "execution_count": 11,
   "metadata": {},
   "outputs": [],
   "source": [
    "y=new_data['Value']"
   ]
  },
  {
   "cell_type": "code",
   "execution_count": 12,
   "metadata": {},
   "outputs": [
    {
     "data": {
      "text/plain": [
       "0            8.314607\n",
       "1            8.394737\n",
       "2            8.094340\n",
       "3            8.336000\n",
       "4            8.537815\n",
       "             ...     \n",
       "20561    37010.208830\n",
       "20562    37069.214850\n",
       "20563    37143.459750\n",
       "20564    37013.651900\n",
       "20565    37041.401580\n",
       "Name: Value, Length: 20566, dtype: float64"
      ]
     },
     "execution_count": 12,
     "metadata": {},
     "output_type": "execute_result"
    }
   ],
   "source": [
    "y"
   ]
  },
  {
   "cell_type": "code",
   "execution_count": 122,
   "metadata": {},
   "outputs": [],
   "source": [
    "# representing y in a dataframe\n",
    "y=pd.DataFrame(y)"
   ]
  },
  {
   "cell_type": "code",
   "execution_count": 123,
   "metadata": {},
   "outputs": [
    {
     "data": {
      "text/html": [
       "<div>\n",
       "<style scoped>\n",
       "    .dataframe tbody tr th:only-of-type {\n",
       "        vertical-align: middle;\n",
       "    }\n",
       "\n",
       "    .dataframe tbody tr th {\n",
       "        vertical-align: top;\n",
       "    }\n",
       "\n",
       "    .dataframe thead th {\n",
       "        text-align: right;\n",
       "    }\n",
       "</style>\n",
       "<table border=\"1\" class=\"dataframe\">\n",
       "  <thead>\n",
       "    <tr style=\"text-align: right;\">\n",
       "      <th></th>\n",
       "      <th>Value</th>\n",
       "    </tr>\n",
       "  </thead>\n",
       "  <tbody>\n",
       "    <tr>\n",
       "      <th>0</th>\n",
       "      <td>8.314607</td>\n",
       "    </tr>\n",
       "    <tr>\n",
       "      <th>1</th>\n",
       "      <td>8.394737</td>\n",
       "    </tr>\n",
       "    <tr>\n",
       "      <th>2</th>\n",
       "      <td>8.094340</td>\n",
       "    </tr>\n",
       "    <tr>\n",
       "      <th>3</th>\n",
       "      <td>8.336000</td>\n",
       "    </tr>\n",
       "    <tr>\n",
       "      <th>4</th>\n",
       "      <td>8.537815</td>\n",
       "    </tr>\n",
       "    <tr>\n",
       "      <th>...</th>\n",
       "      <td>...</td>\n",
       "    </tr>\n",
       "    <tr>\n",
       "      <th>20561</th>\n",
       "      <td>37010.208830</td>\n",
       "    </tr>\n",
       "    <tr>\n",
       "      <th>20562</th>\n",
       "      <td>37069.214850</td>\n",
       "    </tr>\n",
       "    <tr>\n",
       "      <th>20563</th>\n",
       "      <td>37143.459750</td>\n",
       "    </tr>\n",
       "    <tr>\n",
       "      <th>20564</th>\n",
       "      <td>37013.651900</td>\n",
       "    </tr>\n",
       "    <tr>\n",
       "      <th>20565</th>\n",
       "      <td>37041.401580</td>\n",
       "    </tr>\n",
       "  </tbody>\n",
       "</table>\n",
       "<p>20566 rows × 1 columns</p>\n",
       "</div>"
      ],
      "text/plain": [
       "              Value\n",
       "0          8.314607\n",
       "1          8.394737\n",
       "2          8.094340\n",
       "3          8.336000\n",
       "4          8.537815\n",
       "...             ...\n",
       "20561  37010.208830\n",
       "20562  37069.214850\n",
       "20563  37143.459750\n",
       "20564  37013.651900\n",
       "20565  37041.401580\n",
       "\n",
       "[20566 rows x 1 columns]"
      ]
     },
     "execution_count": 123,
     "metadata": {},
     "output_type": "execute_result"
    }
   ],
   "source": [
    "y"
   ]
  },
  {
   "cell_type": "markdown",
   "metadata": {},
   "source": [
    "# Identifying categorical and numeric features"
   ]
  },
  {
   "cell_type": "code",
   "execution_count": 13,
   "metadata": {},
   "outputs": [],
   "source": [
    "categorical_cols = X.select_dtypes(include=['object', 'category']).columns.tolist()  # Adjust as necessary\n",
    "numerical_cols = X.select_dtypes(include=['int64', 'float64']).columns.tolist()  # Adjust as necessary"
   ]
  },
  {
   "cell_type": "code",
   "execution_count": 14,
   "metadata": {},
   "outputs": [
    {
     "data": {
      "text/plain": [
       "['LOCATION', 'SUBJECT', 'MEASURE']"
      ]
     },
     "execution_count": 14,
     "metadata": {},
     "output_type": "execute_result"
    }
   ],
   "source": [
    "categorical_cols"
   ]
  },
  {
   "cell_type": "code",
   "execution_count": 15,
   "metadata": {},
   "outputs": [
    {
     "data": {
      "text/plain": [
       "['TIME']"
      ]
     },
     "execution_count": 15,
     "metadata": {},
     "output_type": "execute_result"
    }
   ],
   "source": [
    "numerical_cols"
   ]
  },
  {
   "cell_type": "markdown",
   "metadata": {},
   "source": [
    "# Creating the transformer pipeline"
   ]
  },
  {
   "cell_type": "code",
   "execution_count": 16,
   "metadata": {},
   "outputs": [],
   "source": [
    "preprocessor = ColumnTransformer(\n",
    "    transformers=[\n",
    "        ('cat', OneHotEncoder(handle_unknown='ignore'), categorical_cols),  # One-hot encode categorical features\n",
    "        ('num', MinMaxScaler(), numerical_cols)  # Scale numerical features\n",
    "    ]\n",
    ")"
   ]
  },
  {
   "cell_type": "markdown",
   "metadata": {},
   "source": [
    "# Creating models and parameter tuning"
   ]
  },
  {
   "cell_type": "code",
   "execution_count": 17,
   "metadata": {},
   "outputs": [],
   "source": [
    "model_params = {\n",
    "    'Linear Regression': {\n",
    "        'model': LinearRegression(),\n",
    "        'params': {}\n",
    "    },\n",
    "    'Ridge Regression': {\n",
    "        'model': Ridge(),\n",
    "        'params': {'model__alpha': [0.1, 1.0, 10.0, 100.0]}\n",
    "    },\n",
    "    'Lasso Regression': {\n",
    "        'model': Lasso(),\n",
    "        'params': {'model__alpha': [0.01, 0.1, 1.0, 10.0]}\n",
    "    },\n",
    "    'ElasticNet Regression': {\n",
    "        'model': ElasticNet(),\n",
    "        'params': {'model__alpha': [0.1, 1.0, 10.0], 'model__l1_ratio': [0.1, 0.5, 0.9]}\n",
    "    },\n",
    "    'Decision Tree': {\n",
    "        'model': DecisionTreeRegressor(),\n",
    "        'params': {'model__max_depth': [3, 5, 10, None], 'model__min_samples_split': [2, 5, 10]}\n",
    "    },\n",
    "    'Random Forest': {\n",
    "        'model': RandomForestRegressor(),\n",
    "        'params': {'model__n_estimators': [50, 100, 200], 'model__max_depth': [3, 5, 10, None]}\n",
    "    },\n",
    "    'AdaBoost': {\n",
    "        'model': AdaBoostRegressor(),\n",
    "        'params': {'model__n_estimators': [50, 100, 200], 'model__learning_rate': [0.01, 0.1, 0.5]}\n",
    "    },\n",
    "    'SVR': {\n",
    "        'model': SVR(),\n",
    "        'params': {'model__C': [0.1, 1, 10], 'model__kernel': ['linear', 'rbf']}\n",
    "    },\n",
    "    'KNN': {\n",
    "        'model': KNeighborsRegressor(),\n",
    "        'params': {'model__n_neighbors': [3, 5, 7, 9], 'model__weights': ['uniform', 'distance']}\n",
    "    },\n",
    "    'Gradient Boosting': {\n",
    "        'model': GradientBoostingRegressor(),\n",
    "        'params': {'model__n_estimators': [50, 100, 200], 'model__learning_rate': [0.01, 0.1, 0.5], 'model__max_depth': [3, 5, 10]}\n",
    "    },\n",
    "    'XGBoost': {\n",
    "        'model': xgb.XGBRegressor(),\n",
    "        'params': {'model__n_estimators': [50, 100, 200], 'model__learning_rate': [0.01, 0.1, 0.5], 'model__max_depth': [3, 5, 10]}\n",
    "    },\n",
    "    'CatBoost': {\n",
    "        'model': CatBoostRegressor(verbose=0),  # Disable verbose output for CatBoost\n",
    "        'params': {'model__iterations': [50, 100, 200], 'model__learning_rate': [0.01, 0.1, 0.5], 'model__depth': [3, 5, 10]}\n",
    "    }\n",
    "}\n"
   ]
  },
  {
   "cell_type": "markdown",
   "metadata": {},
   "source": [
    "# Setting up pipe line for hyper parameter tunning using gridsearch cv"
   ]
  },
  {
   "cell_type": "code",
   "execution_count": 18,
   "metadata": {},
   "outputs": [
    {
     "name": "stdout",
     "output_type": "stream",
     "text": [
      "Linear Regression Best Params: {}\n",
      "Ridge Regression Best Params: {'model__alpha': 10.0}\n",
      "Lasso Regression Best Params: {'model__alpha': 10.0}\n",
      "ElasticNet Regression Best Params: {'model__alpha': 0.1, 'model__l1_ratio': 0.9}\n",
      "Decision Tree Best Params: {'model__max_depth': None, 'model__min_samples_split': 10}\n",
      "Random Forest Best Params: {'model__max_depth': None, 'model__n_estimators': 100}\n",
      "AdaBoost Best Params: {'model__learning_rate': 0.01, 'model__n_estimators': 200}\n",
      "SVR Best Params: {'model__C': 10, 'model__kernel': 'linear'}\n",
      "KNN Best Params: {'model__n_neighbors': 5, 'model__weights': 'distance'}\n",
      "Gradient Boosting Best Params: {'model__learning_rate': 0.1, 'model__max_depth': 3, 'model__n_estimators': 100}\n",
      "XGBoost Best Params: {'model__learning_rate': 0.5, 'model__max_depth': 5, 'model__n_estimators': 100}\n",
      "CatBoost Best Params: {'model__depth': 3, 'model__iterations': 200, 'model__learning_rate': 0.5}\n"
     ]
    }
   ],
   "source": [
    "# Set up Pipelines and Perform Hyperparameter Tuning using GridSearchCV\n",
    "best_models = {}\n",
    "for model_name, mp in model_params.items():\n",
    "    pipeline = Pipeline(steps=[\n",
    "        ('preprocessor', preprocessor),  # Apply preprocessing\n",
    "        ('model', mp['model'])  # Model-specific step\n",
    "    ])\n",
    "    \n",
    "    grid_search = GridSearchCV(pipeline, mp['params'], cv=5, scoring='neg_mean_squared_error', n_jobs=-1)\n",
    "    grid_search.fit(X, y)\n",
    "    \n",
    "    best_models[model_name] = grid_search.best_estimator_\n",
    "    print(f\"{model_name} Best Params: {grid_search.best_params_}\")"
   ]
  },
  {
   "cell_type": "code",
   "execution_count": 19,
   "metadata": {},
   "outputs": [],
   "source": [
    "# Split the data into training and testing sets\n",
    "X_train, X_test, y_train, y_test = train_test_split(X, y, test_size=0.2, random_state=42)"
   ]
  },
  {
   "cell_type": "code",
   "execution_count": 20,
   "metadata": {},
   "outputs": [],
   "source": [
    "# Make Predictions with the Best Tuned Models\n",
    "predictions = {name: model.predict(X_test) for name, model in best_models.items()}"
   ]
  },
  {
   "cell_type": "code",
   "execution_count": 21,
   "metadata": {},
   "outputs": [],
   "source": [
    "#Evaluate Accuracy using MAE, MSE, RMSE, R²\n",
    "results = {}"
   ]
  },
  {
   "cell_type": "code",
   "execution_count": 22,
   "metadata": {},
   "outputs": [],
   "source": [
    "for name, pred in predictions.items():\n",
    "    mae = mean_absolute_error(y_test, pred)\n",
    "    mse = mean_squared_error(y_test, pred)\n",
    "    rmse = np.sqrt(mse)\n",
    "    r2 = r2_score(y_test, pred)\n",
    "    accuracy_percentage = r2 * 100  # Convert R² to percentage\n",
    "    results[name] = {'MAE': mae, 'MSE': mse, 'RMSE': rmse, 'R²': r2,'Accuracy (%)': accuracy_percentage}"
   ]
  },
  {
   "cell_type": "code",
   "execution_count": 23,
   "metadata": {},
   "outputs": [
    {
     "name": "stdout",
     "output_type": "stream",
     "text": [
      "\n",
      "Model Performance after Hyperparameter Tuning:\n",
      "Linear Regression: MAE: 18859.1114, MSE: 2067952989.8716, RMSE: 45474.7511, R²: 0.3896, Accuracy: 38.96%\n",
      "\n",
      "Ridge Regression: MAE: 18723.0167, MSE: 2066125204.2962, RMSE: 45454.6500, R²: 0.3901, Accuracy: 39.01%\n",
      "\n",
      "Lasso Regression: MAE: 18800.1005, MSE: 2068570162.9068, RMSE: 45481.5365, R²: 0.3894, Accuracy: 38.94%\n",
      "\n",
      "ElasticNet Regression: MAE: 17507.6508, MSE: 2179778008.0420, RMSE: 46688.0928, R²: 0.3566, Accuracy: 35.66%\n",
      "\n",
      "Decision Tree: MAE: 370.2604, MSE: 3990724.6579, RMSE: 1997.6798, R²: 0.9988, Accuracy: 99.88%\n",
      "\n",
      "Random Forest: MAE: 162.6405, MSE: 984527.5446, RMSE: 992.2336, R²: 0.9997, Accuracy: 99.97%\n",
      "\n",
      "AdaBoost: MAE: 13070.0162, MSE: 1011475681.1946, RMSE: 31803.7055, R²: 0.7014, Accuracy: 70.14%\n",
      "\n",
      "SVR: MAE: 12289.3711, MSE: 3491862384.4853, RMSE: 59091.9824, R²: -0.0307, Accuracy: -3.07%\n",
      "\n",
      "KNN: MAE: 0.0000, MSE: 0.0000, RMSE: 0.0000, R²: 1.0000, Accuracy: 100.00%\n",
      "\n",
      "Gradient Boosting: MAE: 6431.3492, MSE: 277686396.1003, RMSE: 16663.9250, R²: 0.9180, Accuracy: 91.80%\n",
      "\n",
      "XGBoost: MAE: 860.3780, MSE: 5061240.1444, RMSE: 2249.7200, R²: 0.9985, Accuracy: 99.85%\n",
      "\n",
      "CatBoost: MAE: 5851.8358, MSE: 197088812.5506, RMSE: 14038.8323, R²: 0.9418, Accuracy: 94.18%\n",
      "\n"
     ]
    }
   ],
   "source": [
    "# Display results and select the best model\n",
    "print(\"\\nModel Performance after Hyperparameter Tuning:\")\n",
    "for model_name, metrics in results.items():\n",
    "    print(f\"{model_name}: MAE: {metrics['MAE']:.4f}, MSE: {metrics['MSE']:.4f}, RMSE: {metrics['RMSE']:.4f}, R²: {metrics['R²']:.4f}, Accuracy: {metrics['Accuracy (%)']:.2f}%\\n\")"
   ]
  },
  {
   "cell_type": "markdown",
   "metadata": {},
   "source": [
    "#### We will choose XGBoost cause it does not overfit"
   ]
  },
  {
   "cell_type": "markdown",
   "metadata": {},
   "source": [
    "### Creating a pipeline for xgboost"
   ]
  },
  {
   "cell_type": "code",
   "execution_count": 24,
   "metadata": {},
   "outputs": [],
   "source": [
    "pipeline = Pipeline(steps=[\n",
    "    ('preprocessor', preprocessor),  # Preprocessing steps\n",
    "    ('model', xgb.XGBRegressor(objective='reg:squarederror'))  # XGBoost model\n",
    "])"
   ]
  },
  {
   "cell_type": "code",
   "execution_count": 25,
   "metadata": {},
   "outputs": [],
   "source": [
    "param_grid = {\n",
    "    'model__n_estimators': [50, 100, 200],\n",
    "    'model__learning_rate': [0.01, 0.1, 0.5],\n",
    "    'model__max_depth': [3, 5, 10],\n",
    "    'model__subsample': [0.7, 0.8, 1.0],\n",
    "    'model__colsample_bytree': [0.7, 0.8, 1.0]\n",
    "}"
   ]
  },
  {
   "cell_type": "code",
   "execution_count": 26,
   "metadata": {},
   "outputs": [],
   "source": [
    "grid_search = GridSearchCV(pipeline, param_grid, cv=5, scoring='neg_mean_squared_error', n_jobs=-1)"
   ]
  },
  {
   "cell_type": "code",
   "execution_count": 27,
   "metadata": {},
   "outputs": [
    {
     "data": {
      "text/html": [
       "<style>#sk-container-id-1 {color: black;background-color: white;}#sk-container-id-1 pre{padding: 0;}#sk-container-id-1 div.sk-toggleable {background-color: white;}#sk-container-id-1 label.sk-toggleable__label {cursor: pointer;display: block;width: 100%;margin-bottom: 0;padding: 0.3em;box-sizing: border-box;text-align: center;}#sk-container-id-1 label.sk-toggleable__label-arrow:before {content: \"▸\";float: left;margin-right: 0.25em;color: #696969;}#sk-container-id-1 label.sk-toggleable__label-arrow:hover:before {color: black;}#sk-container-id-1 div.sk-estimator:hover label.sk-toggleable__label-arrow:before {color: black;}#sk-container-id-1 div.sk-toggleable__content {max-height: 0;max-width: 0;overflow: hidden;text-align: left;background-color: #f0f8ff;}#sk-container-id-1 div.sk-toggleable__content pre {margin: 0.2em;color: black;border-radius: 0.25em;background-color: #f0f8ff;}#sk-container-id-1 input.sk-toggleable__control:checked~div.sk-toggleable__content {max-height: 200px;max-width: 100%;overflow: auto;}#sk-container-id-1 input.sk-toggleable__control:checked~label.sk-toggleable__label-arrow:before {content: \"▾\";}#sk-container-id-1 div.sk-estimator input.sk-toggleable__control:checked~label.sk-toggleable__label {background-color: #d4ebff;}#sk-container-id-1 div.sk-label input.sk-toggleable__control:checked~label.sk-toggleable__label {background-color: #d4ebff;}#sk-container-id-1 input.sk-hidden--visually {border: 0;clip: rect(1px 1px 1px 1px);clip: rect(1px, 1px, 1px, 1px);height: 1px;margin: -1px;overflow: hidden;padding: 0;position: absolute;width: 1px;}#sk-container-id-1 div.sk-estimator {font-family: monospace;background-color: #f0f8ff;border: 1px dotted black;border-radius: 0.25em;box-sizing: border-box;margin-bottom: 0.5em;}#sk-container-id-1 div.sk-estimator:hover {background-color: #d4ebff;}#sk-container-id-1 div.sk-parallel-item::after {content: \"\";width: 100%;border-bottom: 1px solid gray;flex-grow: 1;}#sk-container-id-1 div.sk-label:hover label.sk-toggleable__label {background-color: #d4ebff;}#sk-container-id-1 div.sk-serial::before {content: \"\";position: absolute;border-left: 1px solid gray;box-sizing: border-box;top: 0;bottom: 0;left: 50%;z-index: 0;}#sk-container-id-1 div.sk-serial {display: flex;flex-direction: column;align-items: center;background-color: white;padding-right: 0.2em;padding-left: 0.2em;position: relative;}#sk-container-id-1 div.sk-item {position: relative;z-index: 1;}#sk-container-id-1 div.sk-parallel {display: flex;align-items: stretch;justify-content: center;background-color: white;position: relative;}#sk-container-id-1 div.sk-item::before, #sk-container-id-1 div.sk-parallel-item::before {content: \"\";position: absolute;border-left: 1px solid gray;box-sizing: border-box;top: 0;bottom: 0;left: 50%;z-index: -1;}#sk-container-id-1 div.sk-parallel-item {display: flex;flex-direction: column;z-index: 1;position: relative;background-color: white;}#sk-container-id-1 div.sk-parallel-item:first-child::after {align-self: flex-end;width: 50%;}#sk-container-id-1 div.sk-parallel-item:last-child::after {align-self: flex-start;width: 50%;}#sk-container-id-1 div.sk-parallel-item:only-child::after {width: 0;}#sk-container-id-1 div.sk-dashed-wrapped {border: 1px dashed gray;margin: 0 0.4em 0.5em 0.4em;box-sizing: border-box;padding-bottom: 0.4em;background-color: white;}#sk-container-id-1 div.sk-label label {font-family: monospace;font-weight: bold;display: inline-block;line-height: 1.2em;}#sk-container-id-1 div.sk-label-container {text-align: center;}#sk-container-id-1 div.sk-container {/* jupyter's `normalize.less` sets `[hidden] { display: none; }` but bootstrap.min.css set `[hidden] { display: none !important; }` so we also need the `!important` here to be able to override the default hidden behavior on the sphinx rendered scikit-learn.org. See: https://github.com/scikit-learn/scikit-learn/issues/21755 */display: inline-block !important;position: relative;}#sk-container-id-1 div.sk-text-repr-fallback {display: none;}</style><div id=\"sk-container-id-1\" class=\"sk-top-container\"><div class=\"sk-text-repr-fallback\"><pre>GridSearchCV(cv=5,\n",
       "             estimator=Pipeline(steps=[(&#x27;preprocessor&#x27;,\n",
       "                                        ColumnTransformer(transformers=[(&#x27;cat&#x27;,\n",
       "                                                                         OneHotEncoder(handle_unknown=&#x27;ignore&#x27;),\n",
       "                                                                         [&#x27;LOCATION&#x27;,\n",
       "                                                                          &#x27;SUBJECT&#x27;,\n",
       "                                                                          &#x27;MEASURE&#x27;]),\n",
       "                                                                        (&#x27;num&#x27;,\n",
       "                                                                         MinMaxScaler(),\n",
       "                                                                         [&#x27;TIME&#x27;])])),\n",
       "                                       (&#x27;model&#x27;,\n",
       "                                        XGBRegressor(base_score=None,\n",
       "                                                     booster=None,\n",
       "                                                     callbacks=None,\n",
       "                                                     colsample_bylevel=None,\n",
       "                                                     colsample_bynode=None,\n",
       "                                                     colsample_bytree=None,\n",
       "                                                     device=Non...\n",
       "                                                     monotone_constraints=None,\n",
       "                                                     multi_strategy=None,\n",
       "                                                     n_estimators=None,\n",
       "                                                     n_jobs=None,\n",
       "                                                     num_parallel_tree=None,\n",
       "                                                     random_state=None, ...))]),\n",
       "             n_jobs=-1,\n",
       "             param_grid={&#x27;model__colsample_bytree&#x27;: [0.7, 0.8, 1.0],\n",
       "                         &#x27;model__learning_rate&#x27;: [0.01, 0.1, 0.5],\n",
       "                         &#x27;model__max_depth&#x27;: [3, 5, 10],\n",
       "                         &#x27;model__n_estimators&#x27;: [50, 100, 200],\n",
       "                         &#x27;model__subsample&#x27;: [0.7, 0.8, 1.0]},\n",
       "             scoring=&#x27;neg_mean_squared_error&#x27;)</pre><b>In a Jupyter environment, please rerun this cell to show the HTML representation or trust the notebook. <br />On GitHub, the HTML representation is unable to render, please try loading this page with nbviewer.org.</b></div><div class=\"sk-container\" hidden><div class=\"sk-item sk-dashed-wrapped\"><div class=\"sk-label-container\"><div class=\"sk-label sk-toggleable\"><input class=\"sk-toggleable__control sk-hidden--visually\" id=\"sk-estimator-id-1\" type=\"checkbox\" ><label for=\"sk-estimator-id-1\" class=\"sk-toggleable__label sk-toggleable__label-arrow\">GridSearchCV</label><div class=\"sk-toggleable__content\"><pre>GridSearchCV(cv=5,\n",
       "             estimator=Pipeline(steps=[(&#x27;preprocessor&#x27;,\n",
       "                                        ColumnTransformer(transformers=[(&#x27;cat&#x27;,\n",
       "                                                                         OneHotEncoder(handle_unknown=&#x27;ignore&#x27;),\n",
       "                                                                         [&#x27;LOCATION&#x27;,\n",
       "                                                                          &#x27;SUBJECT&#x27;,\n",
       "                                                                          &#x27;MEASURE&#x27;]),\n",
       "                                                                        (&#x27;num&#x27;,\n",
       "                                                                         MinMaxScaler(),\n",
       "                                                                         [&#x27;TIME&#x27;])])),\n",
       "                                       (&#x27;model&#x27;,\n",
       "                                        XGBRegressor(base_score=None,\n",
       "                                                     booster=None,\n",
       "                                                     callbacks=None,\n",
       "                                                     colsample_bylevel=None,\n",
       "                                                     colsample_bynode=None,\n",
       "                                                     colsample_bytree=None,\n",
       "                                                     device=Non...\n",
       "                                                     monotone_constraints=None,\n",
       "                                                     multi_strategy=None,\n",
       "                                                     n_estimators=None,\n",
       "                                                     n_jobs=None,\n",
       "                                                     num_parallel_tree=None,\n",
       "                                                     random_state=None, ...))]),\n",
       "             n_jobs=-1,\n",
       "             param_grid={&#x27;model__colsample_bytree&#x27;: [0.7, 0.8, 1.0],\n",
       "                         &#x27;model__learning_rate&#x27;: [0.01, 0.1, 0.5],\n",
       "                         &#x27;model__max_depth&#x27;: [3, 5, 10],\n",
       "                         &#x27;model__n_estimators&#x27;: [50, 100, 200],\n",
       "                         &#x27;model__subsample&#x27;: [0.7, 0.8, 1.0]},\n",
       "             scoring=&#x27;neg_mean_squared_error&#x27;)</pre></div></div></div><div class=\"sk-parallel\"><div class=\"sk-parallel-item\"><div class=\"sk-item\"><div class=\"sk-label-container\"><div class=\"sk-label sk-toggleable\"><input class=\"sk-toggleable__control sk-hidden--visually\" id=\"sk-estimator-id-2\" type=\"checkbox\" ><label for=\"sk-estimator-id-2\" class=\"sk-toggleable__label sk-toggleable__label-arrow\">estimator: Pipeline</label><div class=\"sk-toggleable__content\"><pre>Pipeline(steps=[(&#x27;preprocessor&#x27;,\n",
       "                 ColumnTransformer(transformers=[(&#x27;cat&#x27;,\n",
       "                                                  OneHotEncoder(handle_unknown=&#x27;ignore&#x27;),\n",
       "                                                  [&#x27;LOCATION&#x27;, &#x27;SUBJECT&#x27;,\n",
       "                                                   &#x27;MEASURE&#x27;]),\n",
       "                                                 (&#x27;num&#x27;, MinMaxScaler(),\n",
       "                                                  [&#x27;TIME&#x27;])])),\n",
       "                (&#x27;model&#x27;,\n",
       "                 XGBRegressor(base_score=None, booster=None, callbacks=None,\n",
       "                              colsample_bylevel=None, colsample_bynode=None,\n",
       "                              colsample_bytree=None, device=None,\n",
       "                              early_stopping_rounds=None...\n",
       "                              feature_types=None, gamma=None, grow_policy=None,\n",
       "                              importance_type=None,\n",
       "                              interaction_constraints=None, learning_rate=None,\n",
       "                              max_bin=None, max_cat_threshold=None,\n",
       "                              max_cat_to_onehot=None, max_delta_step=None,\n",
       "                              max_depth=None, max_leaves=None,\n",
       "                              min_child_weight=None, missing=nan,\n",
       "                              monotone_constraints=None, multi_strategy=None,\n",
       "                              n_estimators=None, n_jobs=None,\n",
       "                              num_parallel_tree=None, random_state=None, ...))])</pre></div></div></div><div class=\"sk-serial\"><div class=\"sk-item\"><div class=\"sk-serial\"><div class=\"sk-item sk-dashed-wrapped\"><div class=\"sk-label-container\"><div class=\"sk-label sk-toggleable\"><input class=\"sk-toggleable__control sk-hidden--visually\" id=\"sk-estimator-id-3\" type=\"checkbox\" ><label for=\"sk-estimator-id-3\" class=\"sk-toggleable__label sk-toggleable__label-arrow\">preprocessor: ColumnTransformer</label><div class=\"sk-toggleable__content\"><pre>ColumnTransformer(transformers=[(&#x27;cat&#x27;, OneHotEncoder(handle_unknown=&#x27;ignore&#x27;),\n",
       "                                 [&#x27;LOCATION&#x27;, &#x27;SUBJECT&#x27;, &#x27;MEASURE&#x27;]),\n",
       "                                (&#x27;num&#x27;, MinMaxScaler(), [&#x27;TIME&#x27;])])</pre></div></div></div><div class=\"sk-parallel\"><div class=\"sk-parallel-item\"><div class=\"sk-item\"><div class=\"sk-label-container\"><div class=\"sk-label sk-toggleable\"><input class=\"sk-toggleable__control sk-hidden--visually\" id=\"sk-estimator-id-4\" type=\"checkbox\" ><label for=\"sk-estimator-id-4\" class=\"sk-toggleable__label sk-toggleable__label-arrow\">cat</label><div class=\"sk-toggleable__content\"><pre>[&#x27;LOCATION&#x27;, &#x27;SUBJECT&#x27;, &#x27;MEASURE&#x27;]</pre></div></div></div><div class=\"sk-serial\"><div class=\"sk-item\"><div class=\"sk-estimator sk-toggleable\"><input class=\"sk-toggleable__control sk-hidden--visually\" id=\"sk-estimator-id-5\" type=\"checkbox\" ><label for=\"sk-estimator-id-5\" class=\"sk-toggleable__label sk-toggleable__label-arrow\">OneHotEncoder</label><div class=\"sk-toggleable__content\"><pre>OneHotEncoder(handle_unknown=&#x27;ignore&#x27;)</pre></div></div></div></div></div></div><div class=\"sk-parallel-item\"><div class=\"sk-item\"><div class=\"sk-label-container\"><div class=\"sk-label sk-toggleable\"><input class=\"sk-toggleable__control sk-hidden--visually\" id=\"sk-estimator-id-6\" type=\"checkbox\" ><label for=\"sk-estimator-id-6\" class=\"sk-toggleable__label sk-toggleable__label-arrow\">num</label><div class=\"sk-toggleable__content\"><pre>[&#x27;TIME&#x27;]</pre></div></div></div><div class=\"sk-serial\"><div class=\"sk-item\"><div class=\"sk-estimator sk-toggleable\"><input class=\"sk-toggleable__control sk-hidden--visually\" id=\"sk-estimator-id-7\" type=\"checkbox\" ><label for=\"sk-estimator-id-7\" class=\"sk-toggleable__label sk-toggleable__label-arrow\">MinMaxScaler</label><div class=\"sk-toggleable__content\"><pre>MinMaxScaler()</pre></div></div></div></div></div></div></div></div><div class=\"sk-item\"><div class=\"sk-estimator sk-toggleable\"><input class=\"sk-toggleable__control sk-hidden--visually\" id=\"sk-estimator-id-8\" type=\"checkbox\" ><label for=\"sk-estimator-id-8\" class=\"sk-toggleable__label sk-toggleable__label-arrow\">XGBRegressor</label><div class=\"sk-toggleable__content\"><pre>XGBRegressor(base_score=None, booster=None, callbacks=None,\n",
       "             colsample_bylevel=None, colsample_bynode=None,\n",
       "             colsample_bytree=None, device=None, early_stopping_rounds=None,\n",
       "             enable_categorical=False, eval_metric=None, feature_types=None,\n",
       "             gamma=None, grow_policy=None, importance_type=None,\n",
       "             interaction_constraints=None, learning_rate=None, max_bin=None,\n",
       "             max_cat_threshold=None, max_cat_to_onehot=None,\n",
       "             max_delta_step=None, max_depth=None, max_leaves=None,\n",
       "             min_child_weight=None, missing=nan, monotone_constraints=None,\n",
       "             multi_strategy=None, n_estimators=None, n_jobs=None,\n",
       "             num_parallel_tree=None, random_state=None, ...)</pre></div></div></div></div></div></div></div></div></div></div></div></div>"
      ],
      "text/plain": [
       "GridSearchCV(cv=5,\n",
       "             estimator=Pipeline(steps=[('preprocessor',\n",
       "                                        ColumnTransformer(transformers=[('cat',\n",
       "                                                                         OneHotEncoder(handle_unknown='ignore'),\n",
       "                                                                         ['LOCATION',\n",
       "                                                                          'SUBJECT',\n",
       "                                                                          'MEASURE']),\n",
       "                                                                        ('num',\n",
       "                                                                         MinMaxScaler(),\n",
       "                                                                         ['TIME'])])),\n",
       "                                       ('model',\n",
       "                                        XGBRegressor(base_score=None,\n",
       "                                                     booster=None,\n",
       "                                                     callbacks=None,\n",
       "                                                     colsample_bylevel=None,\n",
       "                                                     colsample_bynode=None,\n",
       "                                                     colsample_bytree=None,\n",
       "                                                     device=Non...\n",
       "                                                     monotone_constraints=None,\n",
       "                                                     multi_strategy=None,\n",
       "                                                     n_estimators=None,\n",
       "                                                     n_jobs=None,\n",
       "                                                     num_parallel_tree=None,\n",
       "                                                     random_state=None, ...))]),\n",
       "             n_jobs=-1,\n",
       "             param_grid={'model__colsample_bytree': [0.7, 0.8, 1.0],\n",
       "                         'model__learning_rate': [0.01, 0.1, 0.5],\n",
       "                         'model__max_depth': [3, 5, 10],\n",
       "                         'model__n_estimators': [50, 100, 200],\n",
       "                         'model__subsample': [0.7, 0.8, 1.0]},\n",
       "             scoring='neg_mean_squared_error')"
      ]
     },
     "execution_count": 27,
     "metadata": {},
     "output_type": "execute_result"
    }
   ],
   "source": [
    "grid_search.fit(X_train, y_train)"
   ]
  },
  {
   "cell_type": "code",
   "execution_count": 28,
   "metadata": {},
   "outputs": [
    {
     "name": "stdout",
     "output_type": "stream",
     "text": [
      "Best XGBoost Parameters: {'model__colsample_bytree': 1.0, 'model__learning_rate': 0.1, 'model__max_depth': 10, 'model__n_estimators': 200, 'model__subsample': 0.7}\n"
     ]
    }
   ],
   "source": [
    "best_xgb_model = grid_search.best_estimator_\n",
    "best_params = grid_search.best_params_\n",
    "\n",
    "print(f\"Best XGBoost Parameters: {best_params}\")"
   ]
  },
  {
   "cell_type": "code",
   "execution_count": 29,
   "metadata": {},
   "outputs": [],
   "source": [
    "y_pred = best_xgb_model.predict(X_test)"
   ]
  },
  {
   "cell_type": "code",
   "execution_count": 30,
   "metadata": {},
   "outputs": [],
   "source": [
    "mae = mean_absolute_error(y_test, y_pred)\n",
    "mse = mean_squared_error(y_test, y_pred)\n",
    "rmse = np.sqrt(mse)\n",
    "r2 = r2_score(y_test, y_pred)"
   ]
  },
  {
   "cell_type": "code",
   "execution_count": 31,
   "metadata": {},
   "outputs": [
    {
     "name": "stdout",
     "output_type": "stream",
     "text": [
      "Mean Absolute Error: 621.8347\n",
      "Mean Squared Error: 6917015.9369\n",
      "Root Mean Squared Error: 2630.0220\n",
      "R² Score: 0.9980\n"
     ]
    }
   ],
   "source": [
    "print(f\"Mean Absolute Error: {mae:.4f}\")\n",
    "print(f\"Mean Squared Error: {mse:.4f}\")\n",
    "print(f\"Root Mean Squared Error: {rmse:.4f}\")\n",
    "print(f\"R² Score: {r2:.4f}\")"
   ]
  },
  {
   "cell_type": "code",
   "execution_count": 32,
   "metadata": {},
   "outputs": [
    {
     "data": {
      "image/png": "[encoded data removed]",
      "text/plain": [
       "<Figure size 640x480 with 1 Axes>"
      ]
     },
     "metadata": {},
     "output_type": "display_data"
    }
   ],
   "source": [
    "plt.scatter(y_test,y_pred);\n",
    "plt.xlabel('Actual');\n",
    "plt.ylabel('Predicted');"
   ]
  }
 ],
 "metadata": {
  "kernelspec": {
   "display_name": "base",
   "language": "python",
   "name": "python3"
  },
  "language_info": {
   "codemirror_mode": {
    "name": "ipython",
    "version": 3
   },
   "file_extension": ".py",
   "mimetype": "text/x-python",
   "name": "python",
   "nbconvert_exporter": "python",
   "pygments_lexer": "ipython3",
   "version": "3.11.7"
  }
 },
 "nbformat": 4,
 "nbformat_minor": 2
}
